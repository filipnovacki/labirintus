{
 "cells": [
  {
   "cell_type": "code",
   "execution_count": 1,
   "metadata": {},
   "outputs": [],
   "source": [
    "from scripts import astar, dijkstra, graf_entry, graph, network\n",
    "import networkx as nx\n",
    "import matplotlib.pyplot as plt"
   ]
  },
  {
   "cell_type": "code",
   "execution_count": 4,
   "metadata": {},
   "outputs": [],
   "source": [
    "graph = graf_entry.populate_graph(False)"
   ]
  },
  {
   "cell_type": "code",
   "execution_count": 5,
   "metadata": {},
   "outputs": [
    {
     "name": "stdout",
     "output_type": "stream",
     "text": [
      "A AI\n"
     ]
    }
   ],
   "source": [
    "G = graph[0]\n",
    "src = graph[1]\n",
    "end = graph[2]\n",
    "print(graph[1], graph[2])"
   ]
  },
  {
   "cell_type": "code",
   "execution_count": 6,
   "metadata": {
    "scrolled": true
   },
   "outputs": [
    {
     "name": "stdout",
     "output_type": "stream",
     "text": [
      "{'coords': ('10', '0')}\n",
      "{'coords': ('11', '39')}\n"
     ]
    }
   ],
   "source": [
    "print(G.nodes[src])\n",
    "print(G.nodes[end])"
   ]
  },
  {
   "cell_type": "code",
   "execution_count": 7,
   "metadata": {},
   "outputs": [
    {
     "data": {
      "text/plain": [
       "{'A': 0,\n",
       " 'B': 1,\n",
       " 'C': 3,\n",
       " 'D': 4,\n",
       " 'E': 7,\n",
       " 'F': 10,\n",
       " 'G': 12,\n",
       " 'H': 14,\n",
       " 'I': 19,\n",
       " 'J': 22,\n",
       " 'K': 12,\n",
       " 'L': 14,\n",
       " 'M': 16,\n",
       " 'N': 21,\n",
       " 'O': 24,\n",
       " 'P': 25,\n",
       " 'Q': 27,\n",
       " 'R': 31,\n",
       " 'S': 32,\n",
       " 'T': 29,\n",
       " 'U': 31,\n",
       " 'V': 33,\n",
       " 'W': 34,\n",
       " 'X': 36,\n",
       " 'Y': 40,\n",
       " 'Z': 41,\n",
       " 'AA': 43,\n",
       " 'AB': 46,\n",
       " 'AC': 55,\n",
       " 'AD': 57,\n",
       " 'AE': 58,\n",
       " 'AF': 59,\n",
       " 'AG': 61,\n",
       " 'AH': 61,\n",
       " 'AI': 62,\n",
       " 'AJ': 58,\n",
       " 'AK': 60,\n",
       " 'AL': 62,\n",
       " 'AM': 63,\n",
       " 'AN': 63,\n",
       " 'AO': 61,\n",
       " 'AP': 55,\n",
       " 'AQ': 50,\n",
       " 'AR': 52,\n",
       " 'AS': 55,\n",
       " 'AT': 53,\n",
       " 'AU': 45,\n",
       " 'AV': 57,\n",
       " 'AW': 58,\n",
       " 'AX': 59,\n",
       " 'AY': 60,\n",
       " 'AZ': 59,\n",
       " 'BA': 64,\n",
       " 'BB': 62,\n",
       " 'BC': 63,\n",
       " 'BD': 59,\n",
       " 'BE': 57,\n",
       " 'BF': 58,\n",
       " 'BG': 55,\n",
       " 'BH': 46,\n",
       " 'BI': 45,\n",
       " 'BJ': 46,\n",
       " 'BK': 51,\n",
       " 'BL': 49,\n",
       " 'BM': 47,\n",
       " 'BN': 46,\n",
       " 'BO': 44,\n",
       " 'BP': 43,\n",
       " 'BQ': 42,\n",
       " 'BR': 43,\n",
       " 'BS': 43,\n",
       " 'BT': 45,\n",
       " 'BU': 46,\n",
       " 'BV': 47,\n",
       " 'BW': 49,\n",
       " 'BX': 50,\n",
       " 'BY': 38,\n",
       " 'BZ': 39,\n",
       " 'CA': 42,\n",
       " 'CB': 40,\n",
       " 'CC': 37,\n",
       " 'CD': 33,\n",
       " 'CE': 31,\n",
       " 'CF': 30,\n",
       " 'CG': 27,\n",
       " 'CH': 25,\n",
       " 'CI': 26,\n",
       " 'CJ': 25,\n",
       " 'CK': 23,\n",
       " 'CL': 27,\n",
       " 'CM': 25,\n",
       " 'CN': 26,\n",
       " 'CO': 24,\n",
       " 'CP': 20,\n",
       " 'CQ': 18,\n",
       " 'CR': 23,\n",
       " 'CS': 26,\n",
       " 'CT': 24,\n",
       " 'CU': 23,\n",
       " 'CV': 28,\n",
       " 'CW': 22,\n",
       " 'CX': 18,\n",
       " 'CY': 17,\n",
       " 'CZ': 14,\n",
       " 'DA': 18,\n",
       " 'DB': 19,\n",
       " 'DC': 12,\n",
       " 'DD': 11,\n",
       " 'DE': 7,\n",
       " 'DF': 5,\n",
       " 'DG': 9,\n",
       " 'DH': 6,\n",
       " 'DI': 7,\n",
       " 'DJ': 9,\n",
       " 'DK': 4,\n",
       " 'DL': 5,\n",
       " 'DM': 9,\n",
       " 'DN': 13,\n",
       " 'DO': 15,\n",
       " 'DP': 26,\n",
       " 'DQ': 28,\n",
       " 'DR': 45,\n",
       " 'DS': 47,\n",
       " 'DT': 48,\n",
       " 'DU': 50,\n",
       " 'DV': 53,\n",
       " 'DW': 51,\n",
       " 'DX': 55,\n",
       " 'DY': 55,\n",
       " 'DZ': 45,\n",
       " 'EA': 40,\n",
       " 'EB': 38,\n",
       " 'EC': 41,\n",
       " 'ED': 26,\n",
       " 'EE': 12,\n",
       " 'EF': 14,\n",
       " 'EG': 17,\n",
       " 'EH': 22,\n",
       " 'EI': 15,\n",
       " 'EJ': 16,\n",
       " 'EK': 18,\n",
       " 'EL': 20,\n",
       " 'EM': 22,\n",
       " 'EN': 24,\n",
       " 'EO': 25,\n",
       " 'EP': 26,\n",
       " 'EQ': 23}"
      ]
     },
     "execution_count": 7,
     "metadata": {},
     "output_type": "execute_result"
    }
   ],
   "source": [
    "dijkstra.dijkstra(G, src)"
   ]
  },
  {
   "cell_type": "code",
   "execution_count": 8,
   "metadata": {},
   "outputs": [
    {
     "data": {
      "text/plain": [
       "62"
      ]
     },
     "execution_count": 8,
     "metadata": {},
     "output_type": "execute_result"
    }
   ],
   "source": [
    "dijkstra.dijkstra(G, src)[end]"
   ]
  },
  {
   "cell_type": "code",
   "execution_count": 18,
   "metadata": {},
   "outputs": [
    {
     "data": {
      "image/png": "[encoded data removed]",
      "text/plain": [
       "<Figure size 432x288 with 1 Axes>"
      ]
     },
     "metadata": {},
     "output_type": "display_data"
    }
   ],
   "source": [
    "nx.draw(G, pos=nx.spring_layout(G))\n",
    "plt.show()"
   ]
  },
  {
   "cell_type": "code",
   "execution_count": 19,
   "metadata": {},
   "outputs": [],
   "source": [
    "#astar.astar(G, src, end)"
   ]
  },
  {
   "cell_type": "code",
   "execution_count": 20,
   "metadata": {},
   "outputs": [],
   "source": [
    "vertices = graf_entry.input_data(False)[0]"
   ]
  },
  {
   "cell_type": "code",
   "execution_count": 21,
   "metadata": {
    "collapsed": true
   },
   "outputs": [
    {
     "data": {
      "text/plain": [
       "[['A', '10', '0'],\n",
       " ['B', '10', '1'],\n",
       " ['C', '10', '3'],\n",
       " ['D', '9', '3'],\n",
       " ['E', '9', '6'],\n",
       " ['F', '6', '6'],\n",
       " ['G', '6', '8'],\n",
       " ['H', '6', '10'],\n",
       " ['I', '1', '10'],\n",
       " ['J', '1', '13'],\n",
       " ['K', '8', '8'],\n",
       " ['L', '8', '10'],\n",
       " ['M', '8', '12'],\n",
       " ['N', '3', '12'],\n",
       " ['O', '3', '15'],\n",
       " ['P', '2', '15'],\n",
       " ['Q', '2', '17'],\n",
       " ['R', '2', '21'],\n",
       " ['S', '1', '21'],\n",
       " ['T', '4', '17'],\n",
       " ['U', '4', '19'],\n",
       " ['V', '4', '21'],\n",
       " ['W', '5', '21'],\n",
       " ['X', '5', '23'],\n",
       " ['Y', '5', '27'],\n",
       " ['Z', '5', '28'],\n",
       " ['AA', '5', '30'],\n",
       " ['AB', '5', '33'],\n",
       " ['AC', '14', '33'],\n",
       " ['AD', '14', '35'],\n",
       " ['AE', '14', '36'],\n",
       " ['AF', '15', '36'],\n",
       " ['AG', '15', '38'],\n",
       " ['AH', '11', '38'],\n",
       " ['AI', '11', '39'],\n",
       " ['AJ', '8', '38'],\n",
       " ['AK', '6', '38'],\n",
       " ['AL', '4', '38'],\n",
       " ['AM', '3', '38'],\n",
       " ['AN', '4', '37'],\n",
       " ['AO', '6', '37'],\n",
       " ['AP', '8', '35'],\n",
       " ['AQ', '3', '35'],\n",
       " ['AR', '1', '35'],\n",
       " ['AS', '1', '38'],\n",
       " ['AT', '1', '34'],\n",
       " ['AU', '3', '30'],\n",
       " ['AV', '10', '35'],\n",
       " ['AW', '10', '36'],\n",
       " ['AX', '11', '36'],\n",
       " ['AY', '12', '36'],\n",
       " ['AZ', '12', '35'],\n",
       " ['BA', '18', '38'],\n",
       " ['BB', '18', '36'],\n",
       " ['BC', '17', '36'],\n",
       " ['BD', '18', '33'],\n",
       " ['BE', '16', '33'],\n",
       " ['BF', '16', '34'],\n",
       " ['BG', '16', '31'],\n",
       " ['BH', '7', '31'],\n",
       " ['BI', '7', '30'],\n",
       " ['BJ', '7', '29'],\n",
       " ['BK', '12', '29'],\n",
       " ['BL', '12', '27'],\n",
       " ['BM', '10', '27'],\n",
       " ['BN', '10', '26'],\n",
       " ['BO', '8', '26'],\n",
       " ['BP', '8', '27'],\n",
       " ['BQ', '7', '27'],\n",
       " ['BR', '7', '26'],\n",
       " ['BS', '7', '24'],\n",
       " ['BT', '7', '22'],\n",
       " ['BU', '8', '22'],\n",
       " ['BV', '8', '21'],\n",
       " ['BW', '10', '21'],\n",
       " ['BX', '10', '22'],\n",
       " ['BY', '12', '24'],\n",
       " ['BZ', '12', '25'],\n",
       " ['CA', '15', '25'],\n",
       " ['CB', '15', '23'],\n",
       " ['CC', '12', '23'],\n",
       " ['CD', '12', '19'],\n",
       " ['CE', '14', '19'],\n",
       " ['CF', '14', '18'],\n",
       " ['CG', '17', '18'],\n",
       " ['CH', '17', '16'],\n",
       " ['CI', '12', '16'],\n",
       " ['CJ', '12', '17'],\n",
       " ['CK', '10', '17'],\n",
       " ['CL', '6', '17'],\n",
       " ['CM', '6', '15'],\n",
       " ['CN', '5', '15'],\n",
       " ['CO', '6', '14'],\n",
       " ['CP', '10', '14'],\n",
       " ['CQ', '10', '12'],\n",
       " ['CR', '15', '12'],\n",
       " ['CS', '15', '9'],\n",
       " ['CT', '16', '12'],\n",
       " ['CU', '17', '14'],\n",
       " ['CV', '12', '14'],\n",
       " ['CW', '18', '14'],\n",
       " ['CX', '18', '10'],\n",
       " ['CY', '17', '10'],\n",
       " ['CZ', '17', '7'],\n",
       " ['DA', '13', '7'],\n",
       " ['DB', '13', '10'],\n",
       " ['DC', '17', '5'],\n",
       " ['DD', '16', '5'],\n",
       " ['DE', '16', '1'],\n",
       " ['DF', '14', '1'],\n",
       " ['DG', '14', '5'],\n",
       " ['DH', '11', '5'],\n",
       " ['DI', '11', '6'],\n",
       " ['DJ', '11', '8'],\n",
       " ['DK', '11', '3'],\n",
       " ['DL', '12', '3'],\n",
       " ['DM', '18', '1'],\n",
       " ['DN', '18', '5'],\n",
       " ['DO', '18', '7'],\n",
       " ['DP', '18', '16'],\n",
       " ['DQ', '18', '18'],\n",
       " ['DR', '18', '25'],\n",
       " ['DS', '18', '23'],\n",
       " ['DT', '17', '23'],\n",
       " ['DU', '17', '21'],\n",
       " ['DV', '14', '21'],\n",
       " ['DW', '17', '20'],\n",
       " ['DX', '18', '27'],\n",
       " ['DY', '16', '29'],\n",
       " ['DZ', '1', '28'],\n",
       " ['EA', '1', '23'],\n",
       " ['EB', '3', '23'],\n",
       " ['EC', '3', '26'],\n",
       " ['ED', '1', '15'],\n",
       " ['EE', '4', '6'],\n",
       " ['EF', '4', '8'],\n",
       " ['EG', '1', '8'],\n",
       " ['EH', '1', '3'],\n",
       " ['EI', '4', '3'],\n",
       " ['EJ', '3', '3'],\n",
       " ['EK', '3', '1'],\n",
       " ['EL', '1', '1'],\n",
       " ['EM', '7', '1'],\n",
       " ['EN', '7', '3'],\n",
       " ['EO', '6', '3'],\n",
       " ['EP', '6', '4'],\n",
       " ['EQ', '8', '1']]"
      ]
     },
     "execution_count": 21,
     "metadata": {},
     "output_type": "execute_result"
    }
   ],
   "source": [
    "vertices"
   ]
  },
  {
   "cell_type": "code",
   "execution_count": null,
   "metadata": {},
   "outputs": [],
   "source": []
  }
 ],
 "metadata": {
  "kernelspec": {
   "display_name": "Python 3",
   "language": "python",
   "name": "python3"
  },
  "language_info": {
   "codemirror_mode": {
    "name": "ipython",
    "version": 3
   },
   "file_extension": ".py",
   "mimetype": "text/x-python",
   "name": "python",
   "nbconvert_exporter": "python",
   "pygments_lexer": "ipython3",
   "version": "3.7.4"
  }
 },
 "nbformat": 4,
 "nbformat_minor": 2
}
