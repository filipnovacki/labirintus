{
 "cells": [
  {
   "cell_type": "markdown",
   "metadata": {},
   "source": [
    "# Potraga za izgubljenim blagom zaboravljenog faraona"
   ]
  },
  {
   "cell_type": "markdown",
   "metadata": {},
   "source": [
    "## Baratanje podatcima"
   ]
  },
  {
   "cell_type": "code",
   "execution_count": 1,
   "metadata": {},
   "outputs": [
    {
     "name": "stdout",
     "output_type": "stream",
     "text": [
      "                                                                                \n",
      "  ¤   ¤ ¤ ¤ ¤ ¤ ¤   ¤ ¤ ¤ ¤   ¤           ¤   ¤ ¤ ¤ ¤ ¤ ¤           ¤ ¤ ¤ ¤ ¤   \n",
      "  ¤             ¤   ¤         ¤ ¤ ¤ ¤ ¤ ¤ ¤   ¤         ¤             ¤         \n",
      "  ¤ ¤ ¤         ¤   ¤   ¤ ¤ ¤ ¤   ¤           ¤ ¤ ¤ ¤   ¤   ¤ ¤ ¤ ¤ ¤ ¤     ¤   \n",
      "  ¤   ¤ ¤ ¤ ¤ ¤ ¤   ¤   ¤         ¤ ¤ ¤ ¤ ¤   ¤         ¤   ¤         ¤   ¤ ¤   \n",
      "  ¤         ¤       ¤   ¤     ¤   ¤   ¤   ¤ ¤ ¤ ¤ ¤ ¤ ¤ ¤ ¤ ¤ ¤ ¤ ¤   ¤     ¤   \n",
      "  ¤   ¤ ¤   ¤ ¤ ¤ ¤ ¤   ¤   ¤ ¤ ¤ ¤   ¤               ¤     ¤     ¤   ¤   ¤ ¤   \n",
      "  ¤ ¤ ¤     ¤   ¤       ¤   ¤     ¤   ¤     ¤ ¤ ¤ ¤ ¤ ¤   ¤ ¤ ¤   ¤   ¤     ¤   \n",
      "  ¤         ¤   ¤ ¤ ¤ ¤ ¤   ¤     ¤   ¤   ¤ ¤   ¤   ¤ ¤   ¤   ¤   ¤   ¤ ¤ ¤ ¤   \n",
      "      ¤ ¤ ¤ ¤   ¤   ¤   ¤   ¤     ¤   ¤   ¤     ¤   ¤     ¤   ¤   ¤   ¤     ¤   \n",
      "¤ ¤ ¤ ¤     ¤   ¤   ¤   ¤ ¤ ¤ ¤ ¤ ¤   ¤   ¤ ¤   ¤   ¤ ¤   ¤   ¤   ¤   ¤ ¤   ¤   \n",
      "  ¤   ¤ ¤ ¤ ¤ ¤ ¤   ¤   ¤         ¤   ¤         ¤     ¤   ¤   ¤   ¤     ¤ ¤ ¤ ¤ \n",
      "  ¤   ¤   ¤         ¤   ¤   ¤   ¤ ¤   ¤ ¤ ¤ ¤ ¤ ¤ ¤   ¤ ¤ ¤   ¤   ¤   ¤ ¤   ¤   \n",
      "  ¤       ¤   ¤ ¤ ¤ ¤   ¤   ¤   ¤     ¤       ¤   ¤   ¤   ¤   ¤   ¤   ¤     ¤   \n",
      "  ¤ ¤ ¤ ¤ ¤   ¤         ¤   ¤   ¤   ¤ ¤   ¤   ¤   ¤   ¤   ¤   ¤   ¤ ¤ ¤ ¤   ¤   \n",
      "  ¤           ¤   ¤ ¤ ¤ ¤   ¤   ¤   ¤     ¤   ¤ ¤ ¤   ¤   ¤   ¤         ¤ ¤ ¤   \n",
      "  ¤ ¤ ¤ ¤ ¤   ¤         ¤   ¤   ¤   ¤     ¤       ¤   ¤   ¤ ¤ ¤ ¤ ¤ ¤       ¤   \n",
      "  ¤       ¤ ¤ ¤ ¤ ¤ ¤       ¤ ¤ ¤ ¤ ¤   ¤ ¤ ¤ ¤   ¤   ¤           ¤     ¤   ¤   \n",
      "  ¤ ¤ ¤ ¤ ¤   ¤     ¤ ¤ ¤ ¤ ¤   ¤   ¤         ¤ ¤ ¤   ¤ ¤ ¤ ¤ ¤ ¤ ¤ ¤ ¤ ¤ ¤ ¤   \n",
      "                                                                                \n"
     ]
    }
   ],
   "source": [
    "with open(\"data/labirint.txt\") as f:\n",
    "    for x in f.readlines():\n",
    "        print(x.rstrip().replace('0', '  ').replace('1', '¤ '))"
   ]
  },
  {
   "cell_type": "code",
   "execution_count": 2,
   "metadata": {},
   "outputs": [
    {
     "name": "stdout",
     "output_type": "stream",
     "text": [
      "naziv\tred\tstupac\n",
      "A\t10\t0\n",
      "B\t10\t1\n",
      "C\t10\t3\n",
      "D\t9\t3\n",
      "E\t9\t6\n",
      "F\t6\t6\n",
      "G\t6\t8\n",
      "H\t6\t10\n",
      "I\t1\t10\n"
     ]
    }
   ],
   "source": [
    "with open(\"data/vrhovi.txt\") as f:\n",
    "    for x in f.readlines()[:10]:\n",
    "        print(x.rstrip().replace(',', '\\t'))"
   ]
  },
  {
   "cell_type": "code",
   "execution_count": 3,
   "metadata": {},
   "outputs": [
    {
     "name": "stdout",
     "output_type": "stream",
     "text": [
      "vrh1\tvrh2\ttezina\n",
      "A\tB\t1\n",
      "B\tC\t2\n",
      "C\tD\t1\n",
      "D\tE\t3\n",
      "E\tF\t3\n",
      "F\tG\t2\n",
      "G\tH\t2\n",
      "H\tI\t5\n",
      "I\tJ\t3\n"
     ]
    }
   ],
   "source": [
    "with open(\"data/bridovi.txt\") as f:\n",
    "    for x in f.readlines()[:10]:\n",
    "        print(x.rstrip().replace(',','\\t'))"
   ]
  },
  {
   "cell_type": "markdown",
   "metadata": {},
   "source": [
    "## Unos u graf"
   ]
  },
  {
   "cell_type": "code",
   "execution_count": 4,
   "metadata": {},
   "outputs": [],
   "source": [
    "from scripts import graf_entry"
   ]
  },
  {
   "cell_type": "code",
   "execution_count": 5,
   "metadata": {},
   "outputs": [],
   "source": [
    "graph_data = graf_entry.populate_graph(True, 'sqrt')"
   ]
  },
  {
   "cell_type": "code",
   "execution_count": 6,
   "metadata": {},
   "outputs": [],
   "source": [
    "G = graph_data[0]\n",
    "src = graph_data[1]\n",
    "end = graph_data[2]"
   ]
  },
  {
   "cell_type": "code",
   "execution_count": 7,
   "metadata": {},
   "outputs": [],
   "source": [
    "import pprint\n",
    "pp = pprint.PrettyPrinter()"
   ]
  },
  {
   "cell_type": "code",
   "execution_count": 8,
   "metadata": {},
   "outputs": [
    {
     "name": "stdout",
     "output_type": "stream",
     "text": [
      "[('Smith', ('10', '0')),\n",
      " ('Johnson', ('10', '1')),\n",
      " ('Williams', ('10', '3')),\n",
      " ('Brown', ('9', '3')),\n",
      " ('Jones', ('9', '6')),\n",
      " ('Miller', ('6', '6')),\n",
      " ('Davis', ('6', '8')),\n",
      " ('Garcia', ('6', '10')),\n",
      " ('Rodriguez', ('1', '10')),\n",
      " ('Wilson', ('1', '13'))]\n"
     ]
    }
   ],
   "source": [
    "pp.pprint(list(G.nodes(data='coords'))[:10])"
   ]
  },
  {
   "cell_type": "code",
   "execution_count": 9,
   "metadata": {},
   "outputs": [
    {
     "name": "stdout",
     "output_type": "stream",
     "text": [
      "[('Smith', 10.0),\n",
      " ('Johnson', 10.04987562112089),\n",
      " ('Williams', 10.44030650891055),\n",
      " ('Brown', 9.486832980505138),\n",
      " ('Jones', 10.816653826391969),\n",
      " ('Miller', 8.48528137423857),\n",
      " ('Davis', 10.0),\n",
      " ('Garcia', 11.661903789690601),\n",
      " ('Rodriguez', 10.04987562112089),\n",
      " ('Wilson', 13.038404810405298)]\n"
     ]
    }
   ],
   "source": [
    "pp.pprint(list(G.nodes(data='h'))[:10])"
   ]
  },
  {
   "cell_type": "code",
   "execution_count": 10,
   "metadata": {},
   "outputs": [
    {
     "name": "stdout",
     "output_type": "stream",
     "text": [
      "[('Smith', 'Johnson', '1'),\n",
      " ('Johnson', 'Williams', '2'),\n",
      " ('Johnson', 'Gonzales', '4'),\n",
      " ('Williams', 'Brown', '1'),\n",
      " ('Williams', 'West', '1'),\n",
      " ('Brown', 'Jones', '3'),\n",
      " ('Jones', 'Miller', '3'),\n",
      " ('Jones', 'Wallace', '2'),\n",
      " ('Miller', 'Davis', '2'),\n",
      " ('Miller', 'Castillo', '2')]\n"
     ]
    }
   ],
   "source": [
    "pp.pprint(list(G.edges(data='weight'))[:10])"
   ]
  },
  {
   "cell_type": "code",
   "execution_count": 11,
   "metadata": {},
   "outputs": [],
   "source": [
    "import networkx as nx"
   ]
  },
  {
   "cell_type": "code",
   "execution_count": 12,
   "metadata": {},
   "outputs": [
    {
     "data": {
      "image/png": "[encoded data removed]",
      "text/plain": [
       "<Figure size 432x288 with 1 Axes>"
      ]
     },
     "metadata": {},
     "output_type": "display_data"
    }
   ],
   "source": [
    "nx.draw(G, nx.spring_layout(G), node_size=50)"
   ]
  },
  {
   "cell_type": "markdown",
   "metadata": {},
   "source": [
    "## Običan graf bez prezimena ljudi"
   ]
  },
  {
   "cell_type": "code",
   "execution_count": 13,
   "metadata": {},
   "outputs": [],
   "source": [
    "graf_obican = graf_entry.populate_graph(False, 'sqrt')"
   ]
  },
  {
   "cell_type": "code",
   "execution_count": 14,
   "metadata": {},
   "outputs": [],
   "source": [
    "G_o = graf_obican[0]\n",
    "src_o = graf_obican[1]\n",
    "end_o = graf_obican[2]"
   ]
  },
  {
   "cell_type": "code",
   "execution_count": 15,
   "metadata": {},
   "outputs": [
    {
     "name": "stdout",
     "output_type": "stream",
     "text": [
      "[('A', 'B', '1'),\n",
      " ('B', 'C', '2'),\n",
      " ('B', 'DF', '4'),\n",
      " ('C', 'D', '1'),\n",
      " ('C', 'DK', '1')]\n"
     ]
    }
   ],
   "source": [
    "pp.pprint(list(G_o.edges(data='weight'))[:5])"
   ]
  },
  {
   "cell_type": "code",
   "execution_count": 16,
   "metadata": {},
   "outputs": [
    {
     "name": "stdout",
     "output_type": "stream",
     "text": [
      "[('A', ('10', '0')),\n",
      " ('B', ('10', '1')),\n",
      " ('C', ('10', '3')),\n",
      " ('D', ('9', '3')),\n",
      " ('E', ('9', '6'))]\n"
     ]
    }
   ],
   "source": [
    "pp.pprint(list(G_o.nodes(data='coords'))[:5])"
   ]
  },
  {
   "cell_type": "markdown",
   "metadata": {},
   "source": [
    "## Smanjivanje kompleksnosti grafa"
   ]
  },
  {
   "cell_type": "code",
   "execution_count": 17,
   "metadata": {},
   "outputs": [],
   "source": [
    "from scripts.clean_graph import clean_graph"
   ]
  },
  {
   "cell_type": "code",
   "execution_count": 18,
   "metadata": {},
   "outputs": [],
   "source": [
    "cl_graph = graf_entry.populate_graph(True, 'sqrt')[0]\n",
    "\n",
    "for _ in range(20):\n",
    "    cl_graph = clean_graph(cl_graph, src, end)"
   ]
  },
  {
   "cell_type": "code",
   "execution_count": 19,
   "metadata": {
    "scrolled": true
   },
   "outputs": [
    {
     "name": "stdout",
     "output_type": "stream",
     "text": [
      "Cijeli graf: 166 vrhova\n",
      "Čisti graf: 53 vrhova\n"
     ]
    }
   ],
   "source": [
    "print(\"Cijeli graf: \" + str(len(G.edges)) + \" vrhova\")\n",
    "print(\"Čisti graf: \" + str(len(cl_graph.edges)) + \" vrhova\")"
   ]
  },
  {
   "cell_type": "code",
   "execution_count": 20,
   "metadata": {},
   "outputs": [
    {
     "data": {
      "image/png": "[encoded data removed]",
      "text/plain": [
       "<Figure size 432x288 with 1 Axes>"
      ]
     },
     "metadata": {},
     "output_type": "display_data"
    }
   ],
   "source": [
    "nx.draw(cl_graph, nx.spring_layout(cl_graph), node_size=50)"
   ]
  },
  {
   "cell_type": "markdown",
   "metadata": {},
   "source": [
    "# Dijkstrin algoritam "
   ]
  },
  {
   "cell_type": "code",
   "execution_count": 21,
   "metadata": {},
   "outputs": [],
   "source": [
    "from scripts.dijkstra import dijkstra\n",
    "from anytree import RenderTree, Node"
   ]
  },
  {
   "cell_type": "code",
   "execution_count": 54,
   "metadata": {},
   "outputs": [
    {
     "name": "stdout",
     "output_type": "stream",
     "text": [
      "Put od početka do cilja:  Node('/Smith/Johnson/Williams/West/Ramos/Wallace/Griffin/Martinez/Anderson/Taylor/Thomas/Hernandez/Moore/Martin/White/Lopez/Lee/Gonzalez/Harris/Clark/Lewis/Robinson/Phillips/Campbell/Ramirez/Scott/Wright/King')\n",
      "Broj vrhova u grafovu: 147\n"
     ]
    }
   ],
   "source": [
    "distances = dijkstra(G, src)\n",
    "print(\"Put od početka do cilja: \", str(distances[1][end]))\n",
    "print(\"Broj vrhova u grafovu: \" + str(len(distances[0])))"
   ]
  },
  {
   "cell_type": "code",
   "execution_count": 23,
   "metadata": {},
   "outputs": [
    {
     "name": "stdout",
     "output_type": "stream",
     "text": [
      "Najbrži put do cilja dug je 62 kvadrata.\n"
     ]
    }
   ],
   "source": [
    "print(\"Najbrži put do cilja dug je \" + str(distances[0][end]) + \" kvadrata.\")"
   ]
  },
  {
   "cell_type": "markdown",
   "metadata": {},
   "source": [
    "## Očišćen graf - Dijkstrin algoritam"
   ]
  },
  {
   "cell_type": "code",
   "execution_count": 24,
   "metadata": {},
   "outputs": [],
   "source": [
    "dijkstra_clean_g = graf_entry.populate_graph(True, 'sqrt')\n",
    "dijkstra_clean = dijkstra_clean_g[0]\n",
    "src_clean = dijkstra_clean_g[1]\n",
    "end_clean = dijkstra_clean_g[2]"
   ]
  },
  {
   "cell_type": "code",
   "execution_count": 25,
   "metadata": {},
   "outputs": [],
   "source": [
    "for _ in range(20):\n",
    "    dijkstra_clean = clean_graph(dijkstra_clean, src_clean, end_clean)"
   ]
  },
  {
   "cell_type": "code",
   "execution_count": 26,
   "metadata": {},
   "outputs": [],
   "source": [
    "distances_clean = dijkstra(dijkstra_clean, src_clean)"
   ]
  },
  {
   "cell_type": "code",
   "execution_count": 55,
   "metadata": {
    "scrolled": true
   },
   "outputs": [
    {
     "name": "stdout",
     "output_type": "stream",
     "text": [
      "Put od početka do cilja:  Node('/Smith/Johnson/Williams/Ramos/Wallace/Martinez/Anderson/Taylor/White/Lopez/Harris/Clark/Lewis/Robinson/Ramirez/Wright/King')\n",
      "Broj vrhova u grafovu: 36\n"
     ]
    }
   ],
   "source": [
    "print(\"Put od početka do cilja: \", str(distances_clean[1][end]))\n",
    "print(\"Broj vrhova u grafovu: \" + str(len(distances_clean[0])))"
   ]
  },
  {
   "cell_type": "code",
   "execution_count": 28,
   "metadata": {},
   "outputs": [
    {
     "name": "stdout",
     "output_type": "stream",
     "text": [
      "Najbrži put do cilja dug je 62 kvadrata.\n"
     ]
    }
   ],
   "source": [
    "print(\"Najbrži put do cilja dug je \" + str(distances_clean[0][end]) + \" kvadrata.\")"
   ]
  },
  {
   "cell_type": "markdown",
   "metadata": {},
   "source": [
    "# A* algoritam"
   ]
  },
  {
   "cell_type": "code",
   "execution_count": 29,
   "metadata": {},
   "outputs": [],
   "source": [
    "from scripts.astar import astar"
   ]
  },
  {
   "cell_type": "code",
   "execution_count": 56,
   "metadata": {},
   "outputs": [
    {
     "name": "stdout",
     "output_type": "stream",
     "text": [
      "Put od početka do cilja:  Node('/Smith/Johnson/Williams/West/Ramos/Wallace/Griffin/Martinez/Anderson/Taylor/Thomas/Hernandez/Moore/Martin/White/Lopez/Lee/Gonzalez/Harris/Clark/Lewis/Robinson/Phillips/Campbell/Ramirez/Evans/Turner/Torres/Wright/King')\n",
      "Broj vrhova u grafovu: 147\n"
     ]
    }
   ],
   "source": [
    "distances_a = astar(G, src, end)\n",
    "print(\"Put od početka do cilja: \", str(distances_a[1][end]))\n",
    "print(\"Broj vrhova u grafovu: \" + str(len(distances_a[0])))"
   ]
  },
  {
   "cell_type": "code",
   "execution_count": 31,
   "metadata": {},
   "outputs": [
    {
     "name": "stdout",
     "output_type": "stream",
     "text": [
      "Najbrži put do cilja dug je 62 kvadrata.\n"
     ]
    }
   ],
   "source": [
    "print(\"Najbrži put do cilja dug je \" + str(distances_a[0][end][0]) + \" kvadrata.\")"
   ]
  },
  {
   "cell_type": "markdown",
   "metadata": {},
   "source": [
    "## Očišćen graf"
   ]
  },
  {
   "cell_type": "code",
   "execution_count": 32,
   "metadata": {},
   "outputs": [],
   "source": [
    "astar_clean_g = graf_entry.populate_graph(True, 'sqrt')\n",
    "astar_clean = astar_clean_g[0]\n",
    "src_a_clean = astar_clean_g[1]\n",
    "end_a_clean = astar_clean_g[2]"
   ]
  },
  {
   "cell_type": "code",
   "execution_count": 33,
   "metadata": {},
   "outputs": [],
   "source": [
    "for _ in range(20):\n",
    "    astar_clean = clean_graph(astar_clean, src_a_clean, end_a_clean)"
   ]
  },
  {
   "cell_type": "code",
   "execution_count": 34,
   "metadata": {},
   "outputs": [],
   "source": [
    "distances_a_clean = astar(astar_clean, src_a_clean, end_a_clean)"
   ]
  },
  {
   "cell_type": "code",
   "execution_count": 57,
   "metadata": {
    "scrolled": true
   },
   "outputs": [
    {
     "name": "stdout",
     "output_type": "stream",
     "text": [
      "Put od početka do cilja:  Node('/Smith/Johnson/Williams/Ramos/Wallace/Martinez/Anderson/Taylor/White/Lopez/Harris/Clark/Lewis/Robinson/Ramirez/Wright/King')\n",
      "Broj vrhova u grafovu: 36\n"
     ]
    }
   ],
   "source": [
    "print(\"Put od početka do cilja: \", str(distances_a_clean[1][end]))\n",
    "print(\"Broj vrhova u grafovu: \" + str(len(distances_a_clean[0])))"
   ]
  },
  {
   "cell_type": "code",
   "execution_count": 36,
   "metadata": {},
   "outputs": [
    {
     "name": "stdout",
     "output_type": "stream",
     "text": [
      "Najbrži put do cilja dug je 62 kvadrata.\n"
     ]
    }
   ],
   "source": [
    "print(\"Najbrži put do cilja dug je \" + str(distances_clean[0][end]) + \" kvadrata.\")"
   ]
  },
  {
   "cell_type": "markdown",
   "metadata": {},
   "source": [
    "## Heuristika koja ne uzima korijen iz udaljenosti"
   ]
  },
  {
   "cell_type": "code",
   "execution_count": 37,
   "metadata": {},
   "outputs": [],
   "source": [
    "graph_pow = graf_entry.populate_graph(True, 'pow')"
   ]
  },
  {
   "cell_type": "code",
   "execution_count": 38,
   "metadata": {},
   "outputs": [],
   "source": [
    "G_a = graph_pow[0]\n",
    "src_a = graph_pow[1]\n",
    "end_a = graph_pow[2]"
   ]
  },
  {
   "cell_type": "code",
   "execution_count": 58,
   "metadata": {},
   "outputs": [
    {
     "name": "stdout",
     "output_type": "stream",
     "text": [
      "Put od početka do cilja:  Node('/Smith/Johnson/Williams/Brown/Jones/Miller/Davis/Martinez/Anderson/Taylor/Thomas/Hernandez/Moore/Martin/White/Lopez/Lee/Gonzalez/Harris/Clark/Lewis/Robinson/Phillips/Campbell/Ramirez/Evans/Turner/Torres/Wright/King')\n",
      "Broj vrhova u grafovu: 147\n"
     ]
    }
   ],
   "source": [
    "distances_a_pow = astar(G_a, src_a, end_a)\n",
    "print(\"Put od početka do cilja: \", str(distances_a_pow[1][end]))\n",
    "print(\"Broj vrhova u grafovu: \" + str(len(distances_a_pow[0])))"
   ]
  },
  {
   "cell_type": "code",
   "execution_count": 40,
   "metadata": {},
   "outputs": [
    {
     "name": "stdout",
     "output_type": "stream",
     "text": [
      "Najbrži put do cilja dug je 64 kvadrata.\n"
     ]
    }
   ],
   "source": [
    "print(\"Najbrži put do cilja dug je \" + str(distances_a_pow[0][end][0]) + \" kvadrata.\")"
   ]
  },
  {
   "cell_type": "markdown",
   "metadata": {},
   "source": [
    "# Usporedba rješenja algoritama"
   ]
  },
  {
   "cell_type": "code",
   "execution_count": 41,
   "metadata": {},
   "outputs": [
    {
     "name": "stdout",
     "output_type": "stream",
     "text": [
      "Node('/Smith/Johnson/Williams/West/Ramos/Wallace/Griffin/Martinez/Anderson/Taylor/Thomas/Hernandez/Moore/Martin/White/Lopez/Lee/Gonzalez/Harris/Clark/Lewis/Robinson/Phillips/Campbell/Ramirez/Scott/Wright/King')\n",
      "Node('/Smith/Johnson/Williams/West/Ramos/Wallace/Griffin/Martinez/Anderson/Taylor/Thomas/Hernandez/Moore/Martin/White/Lopez/Lee/Gonzalez/Harris/Clark/Lewis/Robinson/Phillips/Campbell/Ramirez/Evans/Turner/Torres/Wright/King')\n"
     ]
    }
   ],
   "source": [
    "# dijkstra\n",
    "pp.pprint(distances[1][end])\n",
    "# astar\n",
    "pp.pprint(distances_a[1][end])"
   ]
  },
  {
   "cell_type": "code",
   "execution_count": 42,
   "metadata": {},
   "outputs": [
    {
     "name": "stdout",
     "output_type": "stream",
     "text": [
      "Node('/Smith/Johnson/Williams/Ramos/Wallace/Martinez/Anderson/Taylor/White/Lopez/Harris/Clark/Lewis/Robinson/Ramirez/Wright/King')\n",
      "Node('/Smith/Johnson/Williams/Ramos/Wallace/Martinez/Anderson/Taylor/White/Lopez/Harris/Clark/Lewis/Robinson/Ramirez/Wright/King')\n"
     ]
    }
   ],
   "source": [
    "# dijkstra ociscen\n",
    "pp.pprint(distances_clean[1][end])\n",
    "# astar ociscen\n",
    "pp.pprint(distances_a_clean[1][end])"
   ]
  },
  {
   "cell_type": "code",
   "execution_count": 43,
   "metadata": {},
   "outputs": [
    {
     "name": "stdout",
     "output_type": "stream",
     "text": [
      "Node('/Smith/Johnson/Williams/Ramos/Wallace/Martinez/Anderson/Taylor/White/Lopez/Harris/Clark/Lewis/Robinson/Ramirez/Wright/King')\n",
      "Node('/Smith/Johnson/Williams/Brown/Jones/Miller/Davis/Martinez/Anderson/Taylor/Thomas/Hernandez/Moore/Martin/White/Lopez/Lee/Gonzalez/Harris/Clark/Lewis/Robinson/Phillips/Campbell/Ramirez/Evans/Turner/Torres/Wright/King')\n"
     ]
    }
   ],
   "source": [
    "# astar - dobra heuristika\n",
    "pp.pprint(distances_a_clean[1][end])\n",
    "# astar - 'pretjerana' heuristika\n",
    "pp.pprint(distances_a_pow[1][end])"
   ]
  },
  {
   "cell_type": "markdown",
   "metadata": {},
   "source": [
    "# Appendix "
   ]
  },
  {
   "cell_type": "markdown",
   "metadata": {},
   "source": [
    "## Prikaz stabla putova"
   ]
  },
  {
   "cell_type": "markdown",
   "metadata": {},
   "source": [
    "### Dijkstrin algoritam"
   ]
  },
  {
   "cell_type": "code",
   "execution_count": 44,
   "metadata": {},
   "outputs": [
    {
     "name": "stdout",
     "output_type": "stream",
     "text": [
      "Smith\n",
      "└── Johnson\n",
      "    ├── Williams\n",
      "    │   ├── Brown\n",
      "    │   │   └── Jones\n",
      "    │   │       └── Miller\n",
      "    │   │           ├── Davis\n",
      "    │   │           │   └── Garcia\n",
      "    │   │           │       └── Rodriguez\n",
      "    │   │           │           └── Wilson\n",
      "    │   │           └── Castillo\n",
      "    │   │               ├── Olson\n",
      "    │   │               │   └── Webb\n",
      "    │   │               │       └── Washington\n",
      "    │   │               └── Tucker\n",
      "    │   │                   └── Freeman\n",
      "    │   │                       └── Burns\n",
      "    │   │                           ├── Henry\n",
      "    │   │                           └── Vasquez\n",
      "    │   │                               ├── Snyder\n",
      "    │   │                               │   └── Simpson\n",
      "    │   │                               │       └── Crawford\n",
      "    │   │                               └── Jimenez\n",
      "    │   └── West\n",
      "    │       ├── Ramos\n",
      "    │       │   └── Wallace\n",
      "    │       │       └── Griffin\n",
      "    │       │           └── Martinez\n",
      "    │       │               └── Anderson\n",
      "    │       │                   ├── Taylor\n",
      "    │       │                   │   ├── Thomas\n",
      "    │       │                   │   │   └── Hernandez\n",
      "    │       │                   │   │       └── Moore\n",
      "    │       │                   │   │           ├── Martin\n",
      "    │       │                   │   │           │   ├── Jackson\n",
      "    │       │                   │   │           │   │   └── Thompson\n",
      "    │       │                   │   │           │   └── White\n",
      "    │       │                   │   │           │       └── Lopez\n",
      "    │       │                   │   │           │           └── Lee\n",
      "    │       │                   │   │           │               └── Gonzalez\n",
      "    │       │                   │   │           │                   └── Harris\n",
      "    │       │                   │   │           │                       ├── Clark\n",
      "    │       │                   │   │           │                       │   ├── Lewis\n",
      "    │       │                   │   │           │                       │   │   └── Robinson\n",
      "    │       │                   │   │           │                       │   │       ├── Walker\n",
      "    │       │                   │   │           │                       │   │       │   └── Perez\n",
      "    │       │                   │   │           │                       │   │       │       └── Hall\n",
      "    │       │                   │   │           │                       │   │       │           ├── Young\n",
      "    │       │                   │   │           │                       │   │       │           │   └── Allen\n",
      "    │       │                   │   │           │                       │   │       │           │       └── Sanchez\n",
      "    │       │                   │   │           │                       │   │       │           │           └── Edwards\n",
      "    │       │                   │   │           │                       │   │       │           └── Collins\n",
      "    │       │                   │   │           │                       │   │       ├── Phillips\n",
      "    │       │                   │   │           │                       │   │       │   └── Campbell\n",
      "    │       │                   │   │           │                       │   │       │       ├── Ramirez\n",
      "    │       │                   │   │           │                       │   │       │       │   ├── Scott\n",
      "    │       │                   │   │           │                       │   │       │       │   │   ├── Wright\n",
      "    │       │                   │   │           │                       │   │       │       │   │   │   └── King\n",
      "    │       │                   │   │           │                       │   │       │       │   │   └── Green\n",
      "    │       │                   │   │           │                       │   │       │       │   │       ├── Baker\n",
      "    │       │                   │   │           │                       │   │       │       │   │       │   ├── Adams\n",
      "    │       │                   │   │           │                       │   │       │       │   │       │   └── Nelson\n",
      "    │       │                   │   │           │                       │   │       │       │   │       └── Hill\n",
      "    │       │                   │   │           │                       │   │       │       │   └── Evans\n",
      "    │       │                   │   │           │                       │   │       │       │       └── Turner\n",
      "    │       │                   │   │           │                       │   │       │       │           └── Torres\n",
      "    │       │                   │   │           │                       │   │       │       │               └── Parker\n",
      "    │       │                   │   │           │                       │   │       │       └── Mitchell\n",
      "    │       │                   │   │           │                       │   │       │           ├── Roberts\n",
      "    │       │                   │   │           │                       │   │       │           └── Carter\n",
      "    │       │                   │   │           │                       │   │       └── Rogers\n",
      "    │       │                   │   │           │                       │   │           ├── Cook\n",
      "    │       │                   │   │           │                       │   │           │   └── Rivera\n",
      "    │       │                   │   │           │                       │   │           │       └── Nguyen\n",
      "    │       │                   │   │           │                       │   │           │           ├── Morris\n",
      "    │       │                   │   │           │                       │   │           │           │   └── Stewart\n",
      "    │       │                   │   │           │                       │   │           │           │       └── Flores\n",
      "    │       │                   │   │           │                       │   │           │           └── Murphy\n",
      "    │       │                   │   │           │                       │   │           └── Morgan\n",
      "    │       │                   │   │           │                       │   │               └── Peterson\n",
      "    │       │                   │   │           │                       │   │                   └── Ruiz\n",
      "    │       │                   │   │           │                       │   └── Kelly\n",
      "    │       │                   │   │           │                       │       ├── Gomez\n",
      "    │       │                   │   │           │                       │       │   └── Bell\n",
      "    │       │                   │   │           │                       │       │       └── Bailey\n",
      "    │       │                   │   │           │                       │       │           └── Reed\n",
      "    │       │                   │   │           │                       │       │               └── Cooper\n",
      "    │       │                   │   │           │                       │       │                   └── Harrison\n",
      "    │       │                   │   │           │                       │       └── Howard\n",
      "    │       │                   │   │           │                       └── Alvarez\n",
      "    │       │                   │   │           │                           ├── Wells\n",
      "    │       │                   │   │           │                           │   └── Kennedy\n",
      "    │       │                   │   │           │                           └── Woods\n",
      "    │       │                   │   │           └── Mendoza\n",
      "    │       │                   │   └── Jenkins\n",
      "    │       │                   │       ├── Ortiz\n",
      "    │       │                   │       │   ├── Ross\n",
      "    │       │                   │       │   │   ├── Sanders\n",
      "    │       │                   │       │   │   │   └── Foster\n",
      "    │       │                   │       │   │   └── Morales\n",
      "    │       │                   │       │   └── Russell\n",
      "    │       │                   │       │       └── Powell\n",
      "    │       │                   │       │           └── Sullivan\n",
      "    │       │                   │       └── Gutierrez\n",
      "    │       │                   │           ├── Perry\n",
      "    │       │                   │           └── Butler\n",
      "    │       │                   └── Reynolds\n",
      "    │       └── Cole\n",
      "    └── Gonzales\n",
      "        ├── Kim\n",
      "        │   ├── Graham\n",
      "        │   │   └── Hamilton\n",
      "        │   │       └── Patterson\n",
      "        │   │           ├── Simmons\n",
      "        │   │           │   └── Coleman\n",
      "        │   │           │       └── Henderson\n",
      "        │   │           │           └── Barnes\n",
      "        │   │           │               ├── Long\n",
      "        │   │           │               │   ├── Myers\n",
      "        │   │           │               │   │   ├── Price\n",
      "        │   │           │               │   │   │   └── Hughes\n",
      "        │   │           │               │   │   │       └── Cruz\n",
      "        │   │           │               │   │   │           └── Reyes\n",
      "        │   │           │               │   │   │               ├── Brooks\n",
      "        │   │           │               │   │   │               │   ├── Ward\n",
      "        │   │           │               │   │   │               │   │   └── Cox\n",
      "        │   │           │               │   │   │               │   │       └── Diaz\n",
      "        │   │           │               │   │   │               │   │           └── Richardson\n",
      "        │   │           │               │   │   │               │   │               └── Wood\n",
      "        │   │           │               │   │   │               │   │                   └── Watson\n",
      "        │   │           │               │   │   │               │   └── Bennett\n",
      "        │   │           │               │   │   │               │       └── Gray\n",
      "        │   │           │               │   │   │               │           └── Stevens\n",
      "        │   │           │               │   │   │               │               └── Murray\n",
      "        │   │           │               │   │   │               │                   └── Ford\n",
      "        │   │           │               │   │   │               │                       └── Marshall\n",
      "        │   │           │               │   │   │               │                           ├── Owens\n",
      "        │   │           │               │   │   │               │                           └── Mcdonald\n",
      "        │   │           │               │   │   │               └── James\n",
      "        │   │           │               │   │   └── Ellis\n",
      "        │   │           │               │   └── Bryant\n",
      "        │   │           │               └── Fisher\n",
      "        │   │           ├── Jordan\n",
      "        │   │           └── Gibson\n",
      "        │   └── Hayes\n",
      "        │       └── Chavez\n",
      "        └── Alexander\n"
     ]
    }
   ],
   "source": [
    "for pre, fill, node in RenderTree(distances[1][src]):\n",
    "    print(pre + node.name)"
   ]
  },
  {
   "cell_type": "markdown",
   "metadata": {},
   "source": [
    "### Očišćen Dijkstrin algoritam"
   ]
  },
  {
   "cell_type": "code",
   "execution_count": 45,
   "metadata": {
    "scrolled": true
   },
   "outputs": [
    {
     "name": "stdout",
     "output_type": "stream",
     "text": [
      "Smith\n",
      "└── Johnson\n",
      "    ├── Williams\n",
      "    │   ├── Jones\n",
      "    │   └── Ramos\n",
      "    │       └── Wallace\n",
      "    │           └── Martinez\n",
      "    │               └── Anderson\n",
      "    │                   └── Taylor\n",
      "    │                       ├── White\n",
      "    │                       │   └── Lopez\n",
      "    │                       │       └── Harris\n",
      "    │                       │           └── Clark\n",
      "    │                       │               ├── Lewis\n",
      "    │                       │               │   └── Robinson\n",
      "    │                       │               │       ├── Hall\n",
      "    │                       │               │       │   └── Sanchez\n",
      "    │                       │               │       ├── Ramirez\n",
      "    │                       │               │       │   ├── Wright\n",
      "    │                       │               │       │   │   └── King\n",
      "    │                       │               │       │   └── Torres\n",
      "    │                       │               │       └── Rogers\n",
      "    │                       │               │           ├── Rivera\n",
      "    │                       │               │           │   └── Morris\n",
      "    │                       │               │           └── Peterson\n",
      "    │                       │               └── Kelly\n",
      "    │                       │                   ├── Bell\n",
      "    │                       │                   │   └── Cooper\n",
      "    │                       │                   └── Howard\n",
      "    │                       └── Ortiz\n",
      "    │                           ├── Ross\n",
      "    │                           └── Morales\n",
      "    └── Gonzales\n",
      "        └── Patterson\n",
      "            └── Long\n",
      "                └── Cruz\n"
     ]
    }
   ],
   "source": [
    "for pre, fill, node in RenderTree(distances_clean[1][src]):\n",
    "    print(pre + node.name)"
   ]
  },
  {
   "cell_type": "markdown",
   "metadata": {},
   "source": [
    "### A* algoritam"
   ]
  },
  {
   "cell_type": "code",
   "execution_count": 46,
   "metadata": {},
   "outputs": [
    {
     "name": "stdout",
     "output_type": "stream",
     "text": [
      "Smith\n",
      "└── Johnson\n",
      "    ├── Williams\n",
      "    │   ├── Brown\n",
      "    │   │   └── Jones\n",
      "    │   │       └── Miller\n",
      "    │   │           ├── Davis\n",
      "    │   │           │   └── Garcia\n",
      "    │   │           │       └── Rodriguez\n",
      "    │   │           │           └── Wilson\n",
      "    │   │           └── Castillo\n",
      "    │   │               ├── Olson\n",
      "    │   │               │   └── Webb\n",
      "    │   │               │       └── Washington\n",
      "    │   │               └── Tucker\n",
      "    │   │                   └── Freeman\n",
      "    │   │                       └── Burns\n",
      "    │   │                           ├── Henry\n",
      "    │   │                           └── Vasquez\n",
      "    │   │                               ├── Snyder\n",
      "    │   │                               │   └── Simpson\n",
      "    │   │                               │       └── Crawford\n",
      "    │   │                               └── Jimenez\n",
      "    │   └── West\n",
      "    │       ├── Ramos\n",
      "    │       │   ├── Alexander\n",
      "    │       │   └── Wallace\n",
      "    │       │       └── Griffin\n",
      "    │       │           └── Martinez\n",
      "    │       │               └── Anderson\n",
      "    │       │                   ├── Taylor\n",
      "    │       │                   │   ├── Thomas\n",
      "    │       │                   │   │   └── Hernandez\n",
      "    │       │                   │   │       └── Moore\n",
      "    │       │                   │   │           ├── Martin\n",
      "    │       │                   │   │           │   ├── Jackson\n",
      "    │       │                   │   │           │   │   └── Thompson\n",
      "    │       │                   │   │           │   └── White\n",
      "    │       │                   │   │           │       └── Lopez\n",
      "    │       │                   │   │           │           └── Lee\n",
      "    │       │                   │   │           │               └── Gonzalez\n",
      "    │       │                   │   │           │                   └── Harris\n",
      "    │       │                   │   │           │                       ├── Clark\n",
      "    │       │                   │   │           │                       │   ├── Lewis\n",
      "    │       │                   │   │           │                       │   │   └── Robinson\n",
      "    │       │                   │   │           │                       │   │       ├── Walker\n",
      "    │       │                   │   │           │                       │   │       │   └── Perez\n",
      "    │       │                   │   │           │                       │   │       │       └── Hall\n",
      "    │       │                   │   │           │                       │   │       │           ├── Young\n",
      "    │       │                   │   │           │                       │   │       │           │   └── Allen\n",
      "    │       │                   │   │           │                       │   │       │           │       └── Sanchez\n",
      "    │       │                   │   │           │                       │   │       │           └── Collins\n",
      "    │       │                   │   │           │                       │   │       │               └── Parker\n",
      "    │       │                   │   │           │                       │   │       ├── Phillips\n",
      "    │       │                   │   │           │                       │   │       │   └── Campbell\n",
      "    │       │                   │   │           │                       │   │       │       ├── Ramirez\n",
      "    │       │                   │   │           │                       │   │       │       │   ├── Scott\n",
      "    │       │                   │   │           │                       │   │       │       │   │   └── Green\n",
      "    │       │                   │   │           │                       │   │       │       │   │       ├── Baker\n",
      "    │       │                   │   │           │                       │   │       │       │   │       │   ├── Adams\n",
      "    │       │                   │   │           │                       │   │       │       │   │       │   └── Nelson\n",
      "    │       │                   │   │           │                       │   │       │       │   │       └── Hill\n",
      "    │       │                   │   │           │                       │   │       │       │   └── Evans\n",
      "    │       │                   │   │           │                       │   │       │       │       └── Turner\n",
      "    │       │                   │   │           │                       │   │       │       │           └── Torres\n",
      "    │       │                   │   │           │                       │   │       │       │               └── Wright\n",
      "    │       │                   │   │           │                       │   │       │       │                   └── King\n",
      "    │       │                   │   │           │                       │   │       │       └── Mitchell\n",
      "    │       │                   │   │           │                       │   │       │           ├── Roberts\n",
      "    │       │                   │   │           │                       │   │       │           └── Carter\n",
      "    │       │                   │   │           │                       │   │       └── Rogers\n",
      "    │       │                   │   │           │                       │   │           ├── Cook\n",
      "    │       │                   │   │           │                       │   │           │   └── Rivera\n",
      "    │       │                   │   │           │                       │   │           │       └── Nguyen\n",
      "    │       │                   │   │           │                       │   │           │           ├── Morris\n",
      "    │       │                   │   │           │                       │   │           │           │   └── Stewart\n",
      "    │       │                   │   │           │                       │   │           │           └── Murphy\n",
      "    │       │                   │   │           │                       │   │           └── Morgan\n",
      "    │       │                   │   │           │                       │   │               └── Peterson\n",
      "    │       │                   │   │           │                       │   │                   └── Ruiz\n",
      "    │       │                   │   │           │                       │   └── Kelly\n",
      "    │       │                   │   │           │                       │       ├── Gomez\n",
      "    │       │                   │   │           │                       │       └── Howard\n",
      "    │       │                   │   │           │                       │           └── Bell\n",
      "    │       │                   │   │           │                       │               └── Bailey\n",
      "    │       │                   │   │           │                       │                   └── Reed\n",
      "    │       │                   │   │           │                       │                       └── Cooper\n",
      "    │       │                   │   │           │                       │                           └── Harrison\n",
      "    │       │                   │   │           │                       └── Alvarez\n",
      "    │       │                   │   │           │                           ├── Wells\n",
      "    │       │                   │   │           │                           │   └── Kennedy\n",
      "    │       │                   │   │           │                           └── Woods\n",
      "    │       │                   │   │           └── Mendoza\n",
      "    │       │                   │   └── Jenkins\n",
      "    │       │                   │       ├── Ortiz\n",
      "    │       │                   │       │   ├── Ross\n",
      "    │       │                   │       │   │   └── Sanders\n",
      "    │       │                   │       │   │       └── Foster\n",
      "    │       │                   │       │   └── Russell\n",
      "    │       │                   │       │       └── Powell\n",
      "    │       │                   │       │           ├── Morales\n",
      "    │       │                   │       │           └── Sullivan\n",
      "    │       │                   │       └── Gutierrez\n",
      "    │       │                   │           ├── Perry\n",
      "    │       │                   │           └── Butler\n",
      "    │       │                   └── Reynolds\n",
      "    │       └── Cole\n",
      "    └── Gonzales\n",
      "        └── Kim\n",
      "            ├── Graham\n",
      "            │   └── Hamilton\n",
      "            │       └── Patterson\n",
      "            │           ├── Simmons\n",
      "            │           │   └── Coleman\n",
      "            │           │       └── Henderson\n",
      "            │           │           └── Barnes\n",
      "            │           │               ├── Long\n",
      "            │           │               │   ├── Myers\n",
      "            │           │               │   │   ├── Price\n",
      "            │           │               │   │   │   └── Hughes\n",
      "            │           │               │   │   │       └── Cruz\n",
      "            │           │               │   │   │           └── Reyes\n",
      "            │           │               │   │   │               ├── Brooks\n",
      "            │           │               │   │   │               │   ├── Ward\n",
      "            │           │               │   │   │               │   │   └── Cox\n",
      "            │           │               │   │   │               │   │       └── Diaz\n",
      "            │           │               │   │   │               │   │           └── Richardson\n",
      "            │           │               │   │   │               │   │               └── Wood\n",
      "            │           │               │   │   │               │   │                   └── Watson\n",
      "            │           │               │   │   │               │   └── Bennett\n",
      "            │           │               │   │   │               │       └── Gray\n",
      "            │           │               │   │   │               │           └── Stevens\n",
      "            │           │               │   │   │               │               └── Murray\n",
      "            │           │               │   │   │               │                   └── Ford\n",
      "            │           │               │   │   │               │                       └── Marshall\n",
      "            │           │               │   │   │               │                           ├── Owens\n",
      "            │           │               │   │   │               │                           └── Mcdonald\n",
      "            │           │               │   │   │               └── James\n",
      "            │           │               │   │   └── Ellis\n",
      "            │           │               │   └── Bryant\n",
      "            │           │               └── Fisher\n",
      "            │           ├── Jordan\n",
      "            │           └── Gibson\n",
      "            └── Hayes\n",
      "                └── Chavez\n"
     ]
    }
   ],
   "source": [
    "for pre, fill, node in RenderTree(distances_a[1][src]):\n",
    "    print(pre + node.name)"
   ]
  },
  {
   "cell_type": "markdown",
   "metadata": {},
   "source": [
    "### A* algoritam s pretjeranom heuristikom"
   ]
  },
  {
   "cell_type": "code",
   "execution_count": 47,
   "metadata": {},
   "outputs": [
    {
     "name": "stdout",
     "output_type": "stream",
     "text": [
      "Smith\n",
      "└── Johnson\n",
      "    ├── Williams\n",
      "    │   ├── Brown\n",
      "    │   │   └── Jones\n",
      "    │   │       └── Miller\n",
      "    │   │           ├── Davis\n",
      "    │   │           │   ├── Garcia\n",
      "    │   │           │   │   └── Rodriguez\n",
      "    │   │           │   │       └── Wilson\n",
      "    │   │           │   └── Martinez\n",
      "    │   │           │       └── Anderson\n",
      "    │   │           │           ├── Taylor\n",
      "    │   │           │           │   ├── Thomas\n",
      "    │   │           │           │   │   └── Hernandez\n",
      "    │   │           │           │   │       └── Moore\n",
      "    │   │           │           │   │           ├── Martin\n",
      "    │   │           │           │   │           │   ├── Jackson\n",
      "    │   │           │           │   │           │   │   └── Thompson\n",
      "    │   │           │           │   │           │   └── White\n",
      "    │   │           │           │   │           │       └── Lopez\n",
      "    │   │           │           │   │           │           ├── Lee\n",
      "    │   │           │           │   │           │           │   └── Gonzalez\n",
      "    │   │           │           │   │           │           │       └── Harris\n",
      "    │   │           │           │   │           │           │           ├── Clark\n",
      "    │   │           │           │   │           │           │           │   ├── Lewis\n",
      "    │   │           │           │   │           │           │           │   │   └── Robinson\n",
      "    │   │           │           │   │           │           │           │   │       ├── Walker\n",
      "    │   │           │           │   │           │           │           │   │       │   └── Perez\n",
      "    │   │           │           │   │           │           │           │   │       │       └── Hall\n",
      "    │   │           │           │   │           │           │           │   │       │           ├── Young\n",
      "    │   │           │           │   │           │           │           │   │       │           │   └── Allen\n",
      "    │   │           │           │   │           │           │           │   │       │           │       └── Sanchez\n",
      "    │   │           │           │   │           │           │           │   │       │           └── Collins\n",
      "    │   │           │           │   │           │           │           │   │       ├── Phillips\n",
      "    │   │           │           │   │           │           │           │   │       │   └── Campbell\n",
      "    │   │           │           │   │           │           │           │   │       │       ├── Ramirez\n",
      "    │   │           │           │   │           │           │           │   │       │       │   ├── Scott\n",
      "    │   │           │           │   │           │           │           │   │       │       │   │   └── Green\n",
      "    │   │           │           │   │           │           │           │   │       │       │   │       ├── Baker\n",
      "    │   │           │           │   │           │           │           │   │       │       │   │       │   ├── Adams\n",
      "    │   │           │           │   │           │           │           │   │       │       │   │       │   └── Nelson\n",
      "    │   │           │           │   │           │           │           │   │       │       │   │       └── Hill\n",
      "    │   │           │           │   │           │           │           │   │       │       │   └── Evans\n",
      "    │   │           │           │   │           │           │           │   │       │       │       └── Turner\n",
      "    │   │           │           │   │           │           │           │   │       │       │           └── Torres\n",
      "    │   │           │           │   │           │           │           │   │       │       │               ├── Wright\n",
      "    │   │           │           │   │           │           │           │   │       │       │               │   └── King\n",
      "    │   │           │           │   │           │           │           │   │       │       │               └── Parker\n",
      "    │   │           │           │   │           │           │           │   │       │       └── Mitchell\n",
      "    │   │           │           │   │           │           │           │   │       │           ├── Roberts\n",
      "    │   │           │           │   │           │           │           │   │       │           └── Carter\n",
      "    │   │           │           │   │           │           │           │   │       └── Rogers\n",
      "    │   │           │           │   │           │           │           │   │           ├── Cook\n",
      "    │   │           │           │   │           │           │           │   │           │   └── Rivera\n",
      "    │   │           │           │   │           │           │           │   │           │       └── Nguyen\n",
      "    │   │           │           │   │           │           │           │   │           │           ├── Morris\n",
      "    │   │           │           │   │           │           │           │   │           │           │   └── Stewart\n",
      "    │   │           │           │   │           │           │           │   │           │           └── Murphy\n",
      "    │   │           │           │   │           │           │           │   │           └── Morgan\n",
      "    │   │           │           │   │           │           │           │   │               └── Peterson\n",
      "    │   │           │           │   │           │           │           │   │                   └── Ruiz\n",
      "    │   │           │           │   │           │           │           │   └── Kelly\n",
      "    │   │           │           │   │           │           │           │       └── Gomez\n",
      "    │   │           │           │   │           │           │           └── Alvarez\n",
      "    │   │           │           │   │           │           │               ├── Wells\n",
      "    │   │           │           │   │           │           │               │   └── Kennedy\n",
      "    │   │           │           │   │           │           │               └── Woods\n",
      "    │   │           │           │   │           │           └── Cruz\n",
      "    │   │           │           │   │           │               ├── Reyes\n",
      "    │   │           │           │   │           │               │   ├── Brooks\n",
      "    │   │           │           │   │           │               │   │   ├── Ward\n",
      "    │   │           │           │   │           │               │   │   │   ├── Howard\n",
      "    │   │           │           │   │           │               │   │   │   │   └── Bell\n",
      "    │   │           │           │   │           │               │   │   │   │       └── Bailey\n",
      "    │   │           │           │   │           │               │   │   │   │           └── Reed\n",
      "    │   │           │           │   │           │               │   │   │   │               └── Cooper\n",
      "    │   │           │           │   │           │               │   │   │   │                   └── Harrison\n",
      "    │   │           │           │   │           │               │   │   │   └── Cox\n",
      "    │   │           │           │   │           │               │   │   │       └── Diaz\n",
      "    │   │           │           │   │           │               │   │   │           └── Richardson\n",
      "    │   │           │           │   │           │               │   │   │               └── Wood\n",
      "    │   │           │           │   │           │               │   │   │                   └── Watson\n",
      "    │   │           │           │   │           │               │   │   └── Bennett\n",
      "    │   │           │           │   │           │               │   └── James\n",
      "    │   │           │           │   │           │               │       └── Gray\n",
      "    │   │           │           │   │           │               │           └── Stevens\n",
      "    │   │           │           │   │           │               │               └── Murray\n",
      "    │   │           │           │   │           │               │                   └── Ford\n",
      "    │   │           │           │   │           │               │                       └── Marshall\n",
      "    │   │           │           │   │           │               │                           ├── Owens\n",
      "    │   │           │           │   │           │               │                           └── Mcdonald\n",
      "    │   │           │           │   │           │               └── Hughes\n",
      "    │   │           │           │   │           │                   └── Price\n",
      "    │   │           │           │   │           └── Mendoza\n",
      "    │   │           │           │   └── Jenkins\n",
      "    │   │           │           │       ├── Ortiz\n",
      "    │   │           │           │       │   ├── Ross\n",
      "    │   │           │           │       │   │   └── Sanders\n",
      "    │   │           │           │       │   │       └── Foster\n",
      "    │   │           │           │       │   └── Russell\n",
      "    │   │           │           │       │       └── Powell\n",
      "    │   │           │           │       │           ├── Morales\n",
      "    │   │           │           │       │           └── Sullivan\n",
      "    │   │           │           │       └── Gutierrez\n",
      "    │   │           │           │           ├── Perry\n",
      "    │   │           │           │           └── Butler\n",
      "    │   │           │           └── Reynolds\n",
      "    │   │           │               └── Jordan\n",
      "    │   │           └── Castillo\n",
      "    │   │               ├── Olson\n",
      "    │   │               │   └── Webb\n",
      "    │   │               │       └── Washington\n",
      "    │   │               └── Tucker\n",
      "    │   │                   └── Freeman\n",
      "    │   │                       └── Burns\n",
      "    │   │                           ├── Henry\n",
      "    │   │                           └── Vasquez\n",
      "    │   │                               ├── Snyder\n",
      "    │   │                               │   └── Simpson\n",
      "    │   │                               │       └── Crawford\n",
      "    │   │                               └── Jimenez\n",
      "    │   └── West\n",
      "    │       ├── Ramos\n",
      "    │       │   ├── Alexander\n",
      "    │       │   └── Wallace\n",
      "    │       │       └── Griffin\n",
      "    │       └── Cole\n",
      "    └── Gonzales\n",
      "        └── Kim\n",
      "            ├── Graham\n",
      "            │   └── Hamilton\n",
      "            │       ├── Patterson\n",
      "            │       │   ├── Simmons\n",
      "            │       │   │   └── Coleman\n",
      "            │       │   │       └── Henderson\n",
      "            │       │   │           └── Barnes\n",
      "            │       │   │               ├── Long\n",
      "            │       │   │               │   ├── Myers\n",
      "            │       │   │               │   │   └── Ellis\n",
      "            │       │   │               │   └── Bryant\n",
      "            │       │   │               └── Fisher\n",
      "            │       │   └── Gibson\n",
      "            │       └── Chavez\n",
      "            └── Hayes\n"
     ]
    }
   ],
   "source": [
    "for pre, fill, node in RenderTree(distances_a_pow[1][src]):\n",
    "    print(pre + node.name)"
   ]
  }
 ],
 "metadata": {
  "kernelspec": {
   "display_name": "Python 3",
   "language": "python",
   "name": "python3"
  },
  "language_info": {
   "codemirror_mode": {
    "name": "ipython",
    "version": 3
   },
   "file_extension": ".py",
   "mimetype": "text/x-python",
   "name": "python",
   "nbconvert_exporter": "python",
   "pygments_lexer": "ipython3",
   "version": "3.8.1"
  }
 },
 "nbformat": 4,
 "nbformat_minor": 4
}
