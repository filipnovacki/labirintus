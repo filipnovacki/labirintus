{
 "cells": [
  {
   "cell_type": "code",
   "execution_count": 18,
   "metadata": {},
   "outputs": [],
   "source": [
    "import networkx as nx\n",
    "\n",
    "G = nx.Graph()\n",
    "\n",
    "edges = [('a', 'b', 2),\n",
    "        ('b', 'e', 4),\n",
    "        ('a', 'e', 6),\n",
    "        ('b', 'd', 6),\n",
    "        ('d', 'e', 8),\n",
    "        ('a', 'c', 3),\n",
    "        ('c', 'd', 2)]\n",
    "\n",
    "G.add_weighted_edges_from(edges)"
   ]
  },
  {
   "cell_type": "markdown",
   "metadata": {},
   "source": [
    "# Testiranje"
   ]
  },
  {
   "cell_type": "code",
   "execution_count": null,
   "metadata": {},
   "outputs": [],
   "source": []
  },
  {
   "cell_type": "code",
   "execution_count": null,
   "metadata": {},
   "outputs": [],
   "source": []
  },
  {
   "cell_type": "code",
   "execution_count": 25,
   "metadata": {},
   "outputs": [
    {
     "name": "stdout",
     "output_type": "stream",
     "text": [
      "a\n",
      "b\n",
      "e\n",
      "d\n"
     ]
    }
   ],
   "source": [
    "delete = []\n",
    "for node in (G):\n",
    "    # ako je stupnja 2\n",
    "    print(node)\n",
    "    if len(G[node]) is 2 and node is not 'a':\n",
    "        # zbroji incidentne bridove tom vrhu\n",
    "        weight_sum = sum([G[node][a]['weight'] for a in G[node]])\n",
    "        G.add_edge(*G[node], weight = weight_sum)\n",
    "        delete.append(node)\n",
    "G.remove_nodes_from(delete)\n"
   ]
  },
  {
   "cell_type": "code",
   "execution_count": 20,
   "metadata": {},
   "outputs": [],
   "source": [
    "G.add_edge('l', 'k')"
   ]
  },
  {
   "cell_type": "code",
   "execution_count": 21,
   "metadata": {},
   "outputs": [
    {
     "data": {
      "text/plain": [
       "EdgeDataView([('a', 'b', 2), ('a', 'e', 6), ('a', 'd', 5), ('b', 'e', 4), ('b', 'd', 6), ('e', 'd', 8), ('l', 'k', None)])"
      ]
     },
     "execution_count": 21,
     "metadata": {},
     "output_type": "execute_result"
    }
   ],
   "source": [
    "G.edges(data='weight')"
   ]
  },
  {
   "cell_type": "code",
   "execution_count": 22,
   "metadata": {},
   "outputs": [],
   "source": [
    "delete_one = []\n",
    "for node in G:\n",
    "    if len(G[node]) is 1:\n",
    "        delete_one.append(node)\n",
    "        \n",
    "G.remove_nodes_from(delete_one)"
   ]
  },
  {
   "cell_type": "code",
   "execution_count": 23,
   "metadata": {},
   "outputs": [
    {
     "data": {
      "text/plain": [
       "EdgeDataView([('a', 'b', 2), ('a', 'e', 6), ('a', 'd', 5), ('b', 'e', 4), ('b', 'd', 6), ('e', 'd', 8)])"
      ]
     },
     "execution_count": 23,
     "metadata": {},
     "output_type": "execute_result"
    }
   ],
   "source": [
    "G.edges(data='weight')"
   ]
  },
  {
   "cell_type": "code",
   "execution_count": null,
   "metadata": {},
   "outputs": [],
   "source": []
  }
 ],
 "metadata": {
  "kernelspec": {
   "display_name": "Python 3",
   "language": "python",
   "name": "python3"
  },
  "language_info": {
   "codemirror_mode": {
    "name": "ipython",
    "version": 3
   },
   "file_extension": ".py",
   "mimetype": "text/x-python",
   "name": "python",
   "nbconvert_exporter": "python",
   "pygments_lexer": "ipython3",
   "version": "3.7.4"
  }
 },
 "nbformat": 4,
 "nbformat_minor": 2
}
